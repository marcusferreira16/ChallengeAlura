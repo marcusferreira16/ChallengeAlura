{
  "nbformat": 4,
  "nbformat_minor": 0,
  "metadata": {
    "colab": {
      "name": "Análise Exploratória - Alura - S2.ipynb",
      "provenance": [],
      "collapsed_sections": [
        "HxtvGWSZvHB3",
        "ItKmpwTRvLjy",
        "6euMPyt4yUGt",
        "cWCtTugEyzN2",
        "8vD0jT7E1l5A",
        "nd57YSsjGtTu",
        "WGuerKmSL80Y",
        "n_xBl_UKO8kN"
      ]
    },
    "kernelspec": {
      "name": "python3",
      "display_name": "Python 3"
    },
    "language_info": {
      "name": "python"
    }
  },
  "cells": [
    {
      "cell_type": "markdown",
      "source": [
        "# 1. Importando a base de dados"
      ],
      "metadata": {
        "id": "HxtvGWSZvHB3"
      }
    },
    {
      "cell_type": "code",
      "execution_count": 132,
      "metadata": {
        "id": "ln07kXEEXvbI"
      },
      "outputs": [],
      "source": [
        "#importando as bibliotecas que usaremos\n",
        "import pandas as pd\n",
        "import seaborn as sns\n",
        "import numpy as np\n",
        "import matplotlib.pyplot as plt"
      ]
    },
    {
      "cell_type": "code",
      "source": [
        "#carregando a nossa base de dados limpa\n",
        "database = pd.read_csv('https://raw.githubusercontent.com/marcusferreira16/ChallengeAlura/main/Semana%201%20-%20Tratamento%20de%20dados/database-churn-clean.csv', sep = ',')"
      ],
      "metadata": {
        "id": "GEohzNnDYJmo"
      },
      "execution_count": 133,
      "outputs": []
    },
    {
      "cell_type": "code",
      "source": [
        "#aumentando o limite de colunas para visualização\n",
        "pd.set_option(\"display.max_columns\", 100)"
      ],
      "metadata": {
        "id": "KlGxr7apZTe_"
      },
      "execution_count": 134,
      "outputs": []
    },
    {
      "cell_type": "code",
      "source": [
        "#visualizando nossa base de dados\n",
        "database.head(5)"
      ],
      "metadata": {
        "colab": {
          "base_uri": "https://localhost:8080/",
          "height": 0
        },
        "id": "VUdaUWFKZoYk",
        "outputId": "5ac7a44f-d88c-48a6-9b56-a0f08d8ac37f"
      },
      "execution_count": 135,
      "outputs": [
        {
          "output_type": "execute_result",
          "data": {
            "text/plain": [
              "           ID Churn  genero maior_igual65 parceiro dependentes  \\\n",
              "0  0002-ORFBO    No  Female            No      Yes         Yes   \n",
              "1  0003-MKNFE    No    Male            No       No          No   \n",
              "2  0004-TLHLJ   Yes    Male            No       No          No   \n",
              "3  0011-IGKFF   Yes    Male           Yes      Yes          No   \n",
              "4  0013-EXCHZ   Yes  Female           Yes      Yes          No   \n",
              "\n",
              "   meses_contrato servico_celular multiplas_linhas assinatura_internet  \\\n",
              "0               9             Yes               No                 DSL   \n",
              "1               9             Yes              Yes                 DSL   \n",
              "2               4             Yes               No         Fiber optic   \n",
              "3              13             Yes               No         Fiber optic   \n",
              "4               3             Yes               No         Fiber optic   \n",
              "\n",
              "  adicional_seguranca_online adicional_backup adicional_protecao  \\\n",
              "0                         No              Yes                 No   \n",
              "1                         No               No                 No   \n",
              "2                         No               No                Yes   \n",
              "3                         No              Yes                Yes   \n",
              "4                         No               No                 No   \n",
              "\n",
              "  adicional_suporte TVacabo Streaming   tipo_contrato fatura_online  \\\n",
              "0               Yes     Yes        No        One year           Yes   \n",
              "1                No      No       Yes  Month-to-month            No   \n",
              "2                No      No        No  Month-to-month           Yes   \n",
              "3                No     Yes       Yes  Month-to-month           Yes   \n",
              "4               Yes     Yes        No  Month-to-month           Yes   \n",
              "\n",
              "     tipo_pagamento  gasto_mes  total_gasto  gasto_dia  \n",
              "0      Mailed check       65.6       593.30       2.19  \n",
              "1      Mailed check       59.9       542.40       2.00  \n",
              "2  Electronic check       73.9       280.85       2.46  \n",
              "3  Electronic check       98.0      1237.85       3.27  \n",
              "4      Mailed check       83.9       267.40       2.80  "
            ],
            "text/html": [
              "\n",
              "  <div id=\"df-5a7b3e23-50be-48c7-bbdf-83fb1ea41784\">\n",
              "    <div class=\"colab-df-container\">\n",
              "      <div>\n",
              "<style scoped>\n",
              "    .dataframe tbody tr th:only-of-type {\n",
              "        vertical-align: middle;\n",
              "    }\n",
              "\n",
              "    .dataframe tbody tr th {\n",
              "        vertical-align: top;\n",
              "    }\n",
              "\n",
              "    .dataframe thead th {\n",
              "        text-align: right;\n",
              "    }\n",
              "</style>\n",
              "<table border=\"1\" class=\"dataframe\">\n",
              "  <thead>\n",
              "    <tr style=\"text-align: right;\">\n",
              "      <th></th>\n",
              "      <th>ID</th>\n",
              "      <th>Churn</th>\n",
              "      <th>genero</th>\n",
              "      <th>maior_igual65</th>\n",
              "      <th>parceiro</th>\n",
              "      <th>dependentes</th>\n",
              "      <th>meses_contrato</th>\n",
              "      <th>servico_celular</th>\n",
              "      <th>multiplas_linhas</th>\n",
              "      <th>assinatura_internet</th>\n",
              "      <th>adicional_seguranca_online</th>\n",
              "      <th>adicional_backup</th>\n",
              "      <th>adicional_protecao</th>\n",
              "      <th>adicional_suporte</th>\n",
              "      <th>TVacabo</th>\n",
              "      <th>Streaming</th>\n",
              "      <th>tipo_contrato</th>\n",
              "      <th>fatura_online</th>\n",
              "      <th>tipo_pagamento</th>\n",
              "      <th>gasto_mes</th>\n",
              "      <th>total_gasto</th>\n",
              "      <th>gasto_dia</th>\n",
              "    </tr>\n",
              "  </thead>\n",
              "  <tbody>\n",
              "    <tr>\n",
              "      <th>0</th>\n",
              "      <td>0002-ORFBO</td>\n",
              "      <td>No</td>\n",
              "      <td>Female</td>\n",
              "      <td>No</td>\n",
              "      <td>Yes</td>\n",
              "      <td>Yes</td>\n",
              "      <td>9</td>\n",
              "      <td>Yes</td>\n",
              "      <td>No</td>\n",
              "      <td>DSL</td>\n",
              "      <td>No</td>\n",
              "      <td>Yes</td>\n",
              "      <td>No</td>\n",
              "      <td>Yes</td>\n",
              "      <td>Yes</td>\n",
              "      <td>No</td>\n",
              "      <td>One year</td>\n",
              "      <td>Yes</td>\n",
              "      <td>Mailed check</td>\n",
              "      <td>65.6</td>\n",
              "      <td>593.30</td>\n",
              "      <td>2.19</td>\n",
              "    </tr>\n",
              "    <tr>\n",
              "      <th>1</th>\n",
              "      <td>0003-MKNFE</td>\n",
              "      <td>No</td>\n",
              "      <td>Male</td>\n",
              "      <td>No</td>\n",
              "      <td>No</td>\n",
              "      <td>No</td>\n",
              "      <td>9</td>\n",
              "      <td>Yes</td>\n",
              "      <td>Yes</td>\n",
              "      <td>DSL</td>\n",
              "      <td>No</td>\n",
              "      <td>No</td>\n",
              "      <td>No</td>\n",
              "      <td>No</td>\n",
              "      <td>No</td>\n",
              "      <td>Yes</td>\n",
              "      <td>Month-to-month</td>\n",
              "      <td>No</td>\n",
              "      <td>Mailed check</td>\n",
              "      <td>59.9</td>\n",
              "      <td>542.40</td>\n",
              "      <td>2.00</td>\n",
              "    </tr>\n",
              "    <tr>\n",
              "      <th>2</th>\n",
              "      <td>0004-TLHLJ</td>\n",
              "      <td>Yes</td>\n",
              "      <td>Male</td>\n",
              "      <td>No</td>\n",
              "      <td>No</td>\n",
              "      <td>No</td>\n",
              "      <td>4</td>\n",
              "      <td>Yes</td>\n",
              "      <td>No</td>\n",
              "      <td>Fiber optic</td>\n",
              "      <td>No</td>\n",
              "      <td>No</td>\n",
              "      <td>Yes</td>\n",
              "      <td>No</td>\n",
              "      <td>No</td>\n",
              "      <td>No</td>\n",
              "      <td>Month-to-month</td>\n",
              "      <td>Yes</td>\n",
              "      <td>Electronic check</td>\n",
              "      <td>73.9</td>\n",
              "      <td>280.85</td>\n",
              "      <td>2.46</td>\n",
              "    </tr>\n",
              "    <tr>\n",
              "      <th>3</th>\n",
              "      <td>0011-IGKFF</td>\n",
              "      <td>Yes</td>\n",
              "      <td>Male</td>\n",
              "      <td>Yes</td>\n",
              "      <td>Yes</td>\n",
              "      <td>No</td>\n",
              "      <td>13</td>\n",
              "      <td>Yes</td>\n",
              "      <td>No</td>\n",
              "      <td>Fiber optic</td>\n",
              "      <td>No</td>\n",
              "      <td>Yes</td>\n",
              "      <td>Yes</td>\n",
              "      <td>No</td>\n",
              "      <td>Yes</td>\n",
              "      <td>Yes</td>\n",
              "      <td>Month-to-month</td>\n",
              "      <td>Yes</td>\n",
              "      <td>Electronic check</td>\n",
              "      <td>98.0</td>\n",
              "      <td>1237.85</td>\n",
              "      <td>3.27</td>\n",
              "    </tr>\n",
              "    <tr>\n",
              "      <th>4</th>\n",
              "      <td>0013-EXCHZ</td>\n",
              "      <td>Yes</td>\n",
              "      <td>Female</td>\n",
              "      <td>Yes</td>\n",
              "      <td>Yes</td>\n",
              "      <td>No</td>\n",
              "      <td>3</td>\n",
              "      <td>Yes</td>\n",
              "      <td>No</td>\n",
              "      <td>Fiber optic</td>\n",
              "      <td>No</td>\n",
              "      <td>No</td>\n",
              "      <td>No</td>\n",
              "      <td>Yes</td>\n",
              "      <td>Yes</td>\n",
              "      <td>No</td>\n",
              "      <td>Month-to-month</td>\n",
              "      <td>Yes</td>\n",
              "      <td>Mailed check</td>\n",
              "      <td>83.9</td>\n",
              "      <td>267.40</td>\n",
              "      <td>2.80</td>\n",
              "    </tr>\n",
              "  </tbody>\n",
              "</table>\n",
              "</div>\n",
              "      <button class=\"colab-df-convert\" onclick=\"convertToInteractive('df-5a7b3e23-50be-48c7-bbdf-83fb1ea41784')\"\n",
              "              title=\"Convert this dataframe to an interactive table.\"\n",
              "              style=\"display:none;\">\n",
              "        \n",
              "  <svg xmlns=\"http://www.w3.org/2000/svg\" height=\"24px\"viewBox=\"0 0 24 24\"\n",
              "       width=\"24px\">\n",
              "    <path d=\"M0 0h24v24H0V0z\" fill=\"none\"/>\n",
              "    <path d=\"M18.56 5.44l.94 2.06.94-2.06 2.06-.94-2.06-.94-.94-2.06-.94 2.06-2.06.94zm-11 1L8.5 8.5l.94-2.06 2.06-.94-2.06-.94L8.5 2.5l-.94 2.06-2.06.94zm10 10l.94 2.06.94-2.06 2.06-.94-2.06-.94-.94-2.06-.94 2.06-2.06.94z\"/><path d=\"M17.41 7.96l-1.37-1.37c-.4-.4-.92-.59-1.43-.59-.52 0-1.04.2-1.43.59L10.3 9.45l-7.72 7.72c-.78.78-.78 2.05 0 2.83L4 21.41c.39.39.9.59 1.41.59.51 0 1.02-.2 1.41-.59l7.78-7.78 2.81-2.81c.8-.78.8-2.07 0-2.86zM5.41 20L4 18.59l7.72-7.72 1.47 1.35L5.41 20z\"/>\n",
              "  </svg>\n",
              "      </button>\n",
              "      \n",
              "  <style>\n",
              "    .colab-df-container {\n",
              "      display:flex;\n",
              "      flex-wrap:wrap;\n",
              "      gap: 12px;\n",
              "    }\n",
              "\n",
              "    .colab-df-convert {\n",
              "      background-color: #E8F0FE;\n",
              "      border: none;\n",
              "      border-radius: 50%;\n",
              "      cursor: pointer;\n",
              "      display: none;\n",
              "      fill: #1967D2;\n",
              "      height: 32px;\n",
              "      padding: 0 0 0 0;\n",
              "      width: 32px;\n",
              "    }\n",
              "\n",
              "    .colab-df-convert:hover {\n",
              "      background-color: #E2EBFA;\n",
              "      box-shadow: 0px 1px 2px rgba(60, 64, 67, 0.3), 0px 1px 3px 1px rgba(60, 64, 67, 0.15);\n",
              "      fill: #174EA6;\n",
              "    }\n",
              "\n",
              "    [theme=dark] .colab-df-convert {\n",
              "      background-color: #3B4455;\n",
              "      fill: #D2E3FC;\n",
              "    }\n",
              "\n",
              "    [theme=dark] .colab-df-convert:hover {\n",
              "      background-color: #434B5C;\n",
              "      box-shadow: 0px 1px 3px 1px rgba(0, 0, 0, 0.15);\n",
              "      filter: drop-shadow(0px 1px 2px rgba(0, 0, 0, 0.3));\n",
              "      fill: #FFFFFF;\n",
              "    }\n",
              "  </style>\n",
              "\n",
              "      <script>\n",
              "        const buttonEl =\n",
              "          document.querySelector('#df-5a7b3e23-50be-48c7-bbdf-83fb1ea41784 button.colab-df-convert');\n",
              "        buttonEl.style.display =\n",
              "          google.colab.kernel.accessAllowed ? 'block' : 'none';\n",
              "\n",
              "        async function convertToInteractive(key) {\n",
              "          const element = document.querySelector('#df-5a7b3e23-50be-48c7-bbdf-83fb1ea41784');\n",
              "          const dataTable =\n",
              "            await google.colab.kernel.invokeFunction('convertToInteractive',\n",
              "                                                     [key], {});\n",
              "          if (!dataTable) return;\n",
              "\n",
              "          const docLinkHtml = 'Like what you see? Visit the ' +\n",
              "            '<a target=\"_blank\" href=https://colab.research.google.com/notebooks/data_table.ipynb>data table notebook</a>'\n",
              "            + ' to learn more about interactive tables.';\n",
              "          element.innerHTML = '';\n",
              "          dataTable['output_type'] = 'display_data';\n",
              "          await google.colab.output.renderOutput(dataTable, element);\n",
              "          const docLink = document.createElement('div');\n",
              "          docLink.innerHTML = docLinkHtml;\n",
              "          element.appendChild(docLink);\n",
              "        }\n",
              "      </script>\n",
              "    </div>\n",
              "  </div>\n",
              "  "
            ]
          },
          "metadata": {},
          "execution_count": 135
        }
      ]
    },
    {
      "cell_type": "markdown",
      "source": [
        "# 2. Análise da variável Churn"
      ],
      "metadata": {
        "id": "ItKmpwTRvLjy"
      }
    },
    {
      "cell_type": "code",
      "source": [
        "database.head()"
      ],
      "metadata": {
        "colab": {
          "base_uri": "https://localhost:8080/",
          "height": 0
        },
        "id": "iQKbXDAm-r6s",
        "outputId": "781810b2-bf06-474c-b4be-583e19468590"
      },
      "execution_count": 136,
      "outputs": [
        {
          "output_type": "execute_result",
          "data": {
            "text/plain": [
              "           ID Churn  genero maior_igual65 parceiro dependentes  \\\n",
              "0  0002-ORFBO    No  Female            No      Yes         Yes   \n",
              "1  0003-MKNFE    No    Male            No       No          No   \n",
              "2  0004-TLHLJ   Yes    Male            No       No          No   \n",
              "3  0011-IGKFF   Yes    Male           Yes      Yes          No   \n",
              "4  0013-EXCHZ   Yes  Female           Yes      Yes          No   \n",
              "\n",
              "   meses_contrato servico_celular multiplas_linhas assinatura_internet  \\\n",
              "0               9             Yes               No                 DSL   \n",
              "1               9             Yes              Yes                 DSL   \n",
              "2               4             Yes               No         Fiber optic   \n",
              "3              13             Yes               No         Fiber optic   \n",
              "4               3             Yes               No         Fiber optic   \n",
              "\n",
              "  adicional_seguranca_online adicional_backup adicional_protecao  \\\n",
              "0                         No              Yes                 No   \n",
              "1                         No               No                 No   \n",
              "2                         No               No                Yes   \n",
              "3                         No              Yes                Yes   \n",
              "4                         No               No                 No   \n",
              "\n",
              "  adicional_suporte TVacabo Streaming   tipo_contrato fatura_online  \\\n",
              "0               Yes     Yes        No        One year           Yes   \n",
              "1                No      No       Yes  Month-to-month            No   \n",
              "2                No      No        No  Month-to-month           Yes   \n",
              "3                No     Yes       Yes  Month-to-month           Yes   \n",
              "4               Yes     Yes        No  Month-to-month           Yes   \n",
              "\n",
              "     tipo_pagamento  gasto_mes  total_gasto  gasto_dia  \n",
              "0      Mailed check       65.6       593.30       2.19  \n",
              "1      Mailed check       59.9       542.40       2.00  \n",
              "2  Electronic check       73.9       280.85       2.46  \n",
              "3  Electronic check       98.0      1237.85       3.27  \n",
              "4      Mailed check       83.9       267.40       2.80  "
            ],
            "text/html": [
              "\n",
              "  <div id=\"df-383b3818-a489-454c-a310-f970ca1329bb\">\n",
              "    <div class=\"colab-df-container\">\n",
              "      <div>\n",
              "<style scoped>\n",
              "    .dataframe tbody tr th:only-of-type {\n",
              "        vertical-align: middle;\n",
              "    }\n",
              "\n",
              "    .dataframe tbody tr th {\n",
              "        vertical-align: top;\n",
              "    }\n",
              "\n",
              "    .dataframe thead th {\n",
              "        text-align: right;\n",
              "    }\n",
              "</style>\n",
              "<table border=\"1\" class=\"dataframe\">\n",
              "  <thead>\n",
              "    <tr style=\"text-align: right;\">\n",
              "      <th></th>\n",
              "      <th>ID</th>\n",
              "      <th>Churn</th>\n",
              "      <th>genero</th>\n",
              "      <th>maior_igual65</th>\n",
              "      <th>parceiro</th>\n",
              "      <th>dependentes</th>\n",
              "      <th>meses_contrato</th>\n",
              "      <th>servico_celular</th>\n",
              "      <th>multiplas_linhas</th>\n",
              "      <th>assinatura_internet</th>\n",
              "      <th>adicional_seguranca_online</th>\n",
              "      <th>adicional_backup</th>\n",
              "      <th>adicional_protecao</th>\n",
              "      <th>adicional_suporte</th>\n",
              "      <th>TVacabo</th>\n",
              "      <th>Streaming</th>\n",
              "      <th>tipo_contrato</th>\n",
              "      <th>fatura_online</th>\n",
              "      <th>tipo_pagamento</th>\n",
              "      <th>gasto_mes</th>\n",
              "      <th>total_gasto</th>\n",
              "      <th>gasto_dia</th>\n",
              "    </tr>\n",
              "  </thead>\n",
              "  <tbody>\n",
              "    <tr>\n",
              "      <th>0</th>\n",
              "      <td>0002-ORFBO</td>\n",
              "      <td>No</td>\n",
              "      <td>Female</td>\n",
              "      <td>No</td>\n",
              "      <td>Yes</td>\n",
              "      <td>Yes</td>\n",
              "      <td>9</td>\n",
              "      <td>Yes</td>\n",
              "      <td>No</td>\n",
              "      <td>DSL</td>\n",
              "      <td>No</td>\n",
              "      <td>Yes</td>\n",
              "      <td>No</td>\n",
              "      <td>Yes</td>\n",
              "      <td>Yes</td>\n",
              "      <td>No</td>\n",
              "      <td>One year</td>\n",
              "      <td>Yes</td>\n",
              "      <td>Mailed check</td>\n",
              "      <td>65.6</td>\n",
              "      <td>593.30</td>\n",
              "      <td>2.19</td>\n",
              "    </tr>\n",
              "    <tr>\n",
              "      <th>1</th>\n",
              "      <td>0003-MKNFE</td>\n",
              "      <td>No</td>\n",
              "      <td>Male</td>\n",
              "      <td>No</td>\n",
              "      <td>No</td>\n",
              "      <td>No</td>\n",
              "      <td>9</td>\n",
              "      <td>Yes</td>\n",
              "      <td>Yes</td>\n",
              "      <td>DSL</td>\n",
              "      <td>No</td>\n",
              "      <td>No</td>\n",
              "      <td>No</td>\n",
              "      <td>No</td>\n",
              "      <td>No</td>\n",
              "      <td>Yes</td>\n",
              "      <td>Month-to-month</td>\n",
              "      <td>No</td>\n",
              "      <td>Mailed check</td>\n",
              "      <td>59.9</td>\n",
              "      <td>542.40</td>\n",
              "      <td>2.00</td>\n",
              "    </tr>\n",
              "    <tr>\n",
              "      <th>2</th>\n",
              "      <td>0004-TLHLJ</td>\n",
              "      <td>Yes</td>\n",
              "      <td>Male</td>\n",
              "      <td>No</td>\n",
              "      <td>No</td>\n",
              "      <td>No</td>\n",
              "      <td>4</td>\n",
              "      <td>Yes</td>\n",
              "      <td>No</td>\n",
              "      <td>Fiber optic</td>\n",
              "      <td>No</td>\n",
              "      <td>No</td>\n",
              "      <td>Yes</td>\n",
              "      <td>No</td>\n",
              "      <td>No</td>\n",
              "      <td>No</td>\n",
              "      <td>Month-to-month</td>\n",
              "      <td>Yes</td>\n",
              "      <td>Electronic check</td>\n",
              "      <td>73.9</td>\n",
              "      <td>280.85</td>\n",
              "      <td>2.46</td>\n",
              "    </tr>\n",
              "    <tr>\n",
              "      <th>3</th>\n",
              "      <td>0011-IGKFF</td>\n",
              "      <td>Yes</td>\n",
              "      <td>Male</td>\n",
              "      <td>Yes</td>\n",
              "      <td>Yes</td>\n",
              "      <td>No</td>\n",
              "      <td>13</td>\n",
              "      <td>Yes</td>\n",
              "      <td>No</td>\n",
              "      <td>Fiber optic</td>\n",
              "      <td>No</td>\n",
              "      <td>Yes</td>\n",
              "      <td>Yes</td>\n",
              "      <td>No</td>\n",
              "      <td>Yes</td>\n",
              "      <td>Yes</td>\n",
              "      <td>Month-to-month</td>\n",
              "      <td>Yes</td>\n",
              "      <td>Electronic check</td>\n",
              "      <td>98.0</td>\n",
              "      <td>1237.85</td>\n",
              "      <td>3.27</td>\n",
              "    </tr>\n",
              "    <tr>\n",
              "      <th>4</th>\n",
              "      <td>0013-EXCHZ</td>\n",
              "      <td>Yes</td>\n",
              "      <td>Female</td>\n",
              "      <td>Yes</td>\n",
              "      <td>Yes</td>\n",
              "      <td>No</td>\n",
              "      <td>3</td>\n",
              "      <td>Yes</td>\n",
              "      <td>No</td>\n",
              "      <td>Fiber optic</td>\n",
              "      <td>No</td>\n",
              "      <td>No</td>\n",
              "      <td>No</td>\n",
              "      <td>Yes</td>\n",
              "      <td>Yes</td>\n",
              "      <td>No</td>\n",
              "      <td>Month-to-month</td>\n",
              "      <td>Yes</td>\n",
              "      <td>Mailed check</td>\n",
              "      <td>83.9</td>\n",
              "      <td>267.40</td>\n",
              "      <td>2.80</td>\n",
              "    </tr>\n",
              "  </tbody>\n",
              "</table>\n",
              "</div>\n",
              "      <button class=\"colab-df-convert\" onclick=\"convertToInteractive('df-383b3818-a489-454c-a310-f970ca1329bb')\"\n",
              "              title=\"Convert this dataframe to an interactive table.\"\n",
              "              style=\"display:none;\">\n",
              "        \n",
              "  <svg xmlns=\"http://www.w3.org/2000/svg\" height=\"24px\"viewBox=\"0 0 24 24\"\n",
              "       width=\"24px\">\n",
              "    <path d=\"M0 0h24v24H0V0z\" fill=\"none\"/>\n",
              "    <path d=\"M18.56 5.44l.94 2.06.94-2.06 2.06-.94-2.06-.94-.94-2.06-.94 2.06-2.06.94zm-11 1L8.5 8.5l.94-2.06 2.06-.94-2.06-.94L8.5 2.5l-.94 2.06-2.06.94zm10 10l.94 2.06.94-2.06 2.06-.94-2.06-.94-.94-2.06-.94 2.06-2.06.94z\"/><path d=\"M17.41 7.96l-1.37-1.37c-.4-.4-.92-.59-1.43-.59-.52 0-1.04.2-1.43.59L10.3 9.45l-7.72 7.72c-.78.78-.78 2.05 0 2.83L4 21.41c.39.39.9.59 1.41.59.51 0 1.02-.2 1.41-.59l7.78-7.78 2.81-2.81c.8-.78.8-2.07 0-2.86zM5.41 20L4 18.59l7.72-7.72 1.47 1.35L5.41 20z\"/>\n",
              "  </svg>\n",
              "      </button>\n",
              "      \n",
              "  <style>\n",
              "    .colab-df-container {\n",
              "      display:flex;\n",
              "      flex-wrap:wrap;\n",
              "      gap: 12px;\n",
              "    }\n",
              "\n",
              "    .colab-df-convert {\n",
              "      background-color: #E8F0FE;\n",
              "      border: none;\n",
              "      border-radius: 50%;\n",
              "      cursor: pointer;\n",
              "      display: none;\n",
              "      fill: #1967D2;\n",
              "      height: 32px;\n",
              "      padding: 0 0 0 0;\n",
              "      width: 32px;\n",
              "    }\n",
              "\n",
              "    .colab-df-convert:hover {\n",
              "      background-color: #E2EBFA;\n",
              "      box-shadow: 0px 1px 2px rgba(60, 64, 67, 0.3), 0px 1px 3px 1px rgba(60, 64, 67, 0.15);\n",
              "      fill: #174EA6;\n",
              "    }\n",
              "\n",
              "    [theme=dark] .colab-df-convert {\n",
              "      background-color: #3B4455;\n",
              "      fill: #D2E3FC;\n",
              "    }\n",
              "\n",
              "    [theme=dark] .colab-df-convert:hover {\n",
              "      background-color: #434B5C;\n",
              "      box-shadow: 0px 1px 3px 1px rgba(0, 0, 0, 0.15);\n",
              "      filter: drop-shadow(0px 1px 2px rgba(0, 0, 0, 0.3));\n",
              "      fill: #FFFFFF;\n",
              "    }\n",
              "  </style>\n",
              "\n",
              "      <script>\n",
              "        const buttonEl =\n",
              "          document.querySelector('#df-383b3818-a489-454c-a310-f970ca1329bb button.colab-df-convert');\n",
              "        buttonEl.style.display =\n",
              "          google.colab.kernel.accessAllowed ? 'block' : 'none';\n",
              "\n",
              "        async function convertToInteractive(key) {\n",
              "          const element = document.querySelector('#df-383b3818-a489-454c-a310-f970ca1329bb');\n",
              "          const dataTable =\n",
              "            await google.colab.kernel.invokeFunction('convertToInteractive',\n",
              "                                                     [key], {});\n",
              "          if (!dataTable) return;\n",
              "\n",
              "          const docLinkHtml = 'Like what you see? Visit the ' +\n",
              "            '<a target=\"_blank\" href=https://colab.research.google.com/notebooks/data_table.ipynb>data table notebook</a>'\n",
              "            + ' to learn more about interactive tables.';\n",
              "          element.innerHTML = '';\n",
              "          dataTable['output_type'] = 'display_data';\n",
              "          await google.colab.output.renderOutput(dataTable, element);\n",
              "          const docLink = document.createElement('div');\n",
              "          docLink.innerHTML = docLinkHtml;\n",
              "          element.appendChild(docLink);\n",
              "        }\n",
              "      </script>\n",
              "    </div>\n",
              "  </div>\n",
              "  "
            ]
          },
          "metadata": {},
          "execution_count": 136
        }
      ]
    },
    {
      "cell_type": "code",
      "source": [
        "#vamos visualizar como está a distribuição da nossa variável target: Churn\n",
        "#primeiro, vamos fazer um gráfico categórico, para entender o volume.\n",
        "#vamos ver quais são as respostas para essa variável\n",
        "database['Churn'].unique()"
      ],
      "metadata": {
        "colab": {
          "base_uri": "https://localhost:8080/"
        },
        "id": "QrODyknIuysB",
        "outputId": "9029fc1f-f4ed-428d-b7e8-5e1b0610db63"
      },
      "execution_count": 137,
      "outputs": [
        {
          "output_type": "execute_result",
          "data": {
            "text/plain": [
              "array(['No', 'Yes'], dtype=object)"
            ]
          },
          "metadata": {},
          "execution_count": 137
        }
      ]
    },
    {
      "cell_type": "code",
      "source": [
        "database[database['Churn']=='No'].count()[['Churn']]"
      ],
      "metadata": {
        "colab": {
          "base_uri": "https://localhost:8080/"
        },
        "id": "zFm03JxJAmi1",
        "outputId": "3855a6aa-6256-44a9-dc9b-34dd7df7d589"
      },
      "execution_count": 138,
      "outputs": [
        {
          "output_type": "execute_result",
          "data": {
            "text/plain": [
              "Churn    5163\n",
              "dtype: int64"
            ]
          },
          "metadata": {},
          "execution_count": 138
        }
      ]
    },
    {
      "cell_type": "code",
      "source": [
        "database[database['Churn']=='Yes'].count()[['Churn']]"
      ],
      "metadata": {
        "colab": {
          "base_uri": "https://localhost:8080/"
        },
        "id": "tKAXjxNxA5yv",
        "outputId": "0a09098c-d0ee-4581-e2ea-443c86ddd5dd"
      },
      "execution_count": 139,
      "outputs": [
        {
          "output_type": "execute_result",
          "data": {
            "text/plain": [
              "Churn    1869\n",
              "dtype: int64"
            ]
          },
          "metadata": {},
          "execution_count": 139
        }
      ]
    },
    {
      "cell_type": "code",
      "source": [
        "sns.catplot(x='Churn',data=database, kind='count')"
      ],
      "metadata": {
        "colab": {
          "base_uri": "https://localhost:8080/",
          "height": 0
        },
        "id": "2iCRQudj-kgH",
        "outputId": "71f2a032-7767-4f93-e437-6868f8a176cd"
      },
      "execution_count": 140,
      "outputs": [
        {
          "output_type": "execute_result",
          "data": {
            "text/plain": [
              "<seaborn.axisgrid.FacetGrid at 0x7f03dc43e0d0>"
            ]
          },
          "metadata": {},
          "execution_count": 140
        },
        {
          "output_type": "display_data",
          "data": {
            "text/plain": [
              "<Figure size 360x360 with 1 Axes>"
            ],
            "image/png": "[encoded data removed]"
          },
          "metadata": {
            "needs_background": "light"
          }
        }
      ]
    },
    {
      "cell_type": "markdown",
      "source": [
        "Podemos notar que um pouco mais de 1/4 da nossa base teve churn, ou seja, deixou a empresa."
      ],
      "metadata": {
        "id": "6kTltS_5Ac_u"
      }
    },
    {
      "cell_type": "code",
      "source": [
        "#vamos entender também quais são as estatísticas descritivas entre a\n",
        "#variável Churn e a variável total_gasto\n",
        "#primeiro quem já deixou a empresa\n",
        "database[database['Churn'] == 'Yes'].describe().round(2)"
      ],
      "metadata": {
        "colab": {
          "base_uri": "https://localhost:8080/",
          "height": 0
        },
        "id": "uCRWmfuYyImU",
        "outputId": "4ed42e0e-981a-4a9d-d177-5baf879c29f0"
      },
      "execution_count": 141,
      "outputs": [
        {
          "output_type": "execute_result",
          "data": {
            "text/plain": [
              "       meses_contrato  gasto_mes  total_gasto  gasto_dia\n",
              "count         1869.00    1869.00      1869.00    1869.00\n",
              "mean            17.98      74.44      1531.80       2.48\n",
              "std             19.53      24.67      1890.82       0.82\n",
              "min              1.00      18.85        18.85       0.63\n",
              "25%              2.00      56.15       134.50       1.87\n",
              "50%             10.00      79.65       703.55       2.66\n",
              "75%             29.00      94.20      2331.30       3.14\n",
              "max             72.00     118.35      8684.80       3.94"
            ],
            "text/html": [
              "\n",
              "  <div id=\"df-349a8037-d2fa-41af-bd0e-a838d629c401\">\n",
              "    <div class=\"colab-df-container\">\n",
              "      <div>\n",
              "<style scoped>\n",
              "    .dataframe tbody tr th:only-of-type {\n",
              "        vertical-align: middle;\n",
              "    }\n",
              "\n",
              "    .dataframe tbody tr th {\n",
              "        vertical-align: top;\n",
              "    }\n",
              "\n",
              "    .dataframe thead th {\n",
              "        text-align: right;\n",
              "    }\n",
              "</style>\n",
              "<table border=\"1\" class=\"dataframe\">\n",
              "  <thead>\n",
              "    <tr style=\"text-align: right;\">\n",
              "      <th></th>\n",
              "      <th>meses_contrato</th>\n",
              "      <th>gasto_mes</th>\n",
              "      <th>total_gasto</th>\n",
              "      <th>gasto_dia</th>\n",
              "    </tr>\n",
              "  </thead>\n",
              "  <tbody>\n",
              "    <tr>\n",
              "      <th>count</th>\n",
              "      <td>1869.00</td>\n",
              "      <td>1869.00</td>\n",
              "      <td>1869.00</td>\n",
              "      <td>1869.00</td>\n",
              "    </tr>\n",
              "    <tr>\n",
              "      <th>mean</th>\n",
              "      <td>17.98</td>\n",
              "      <td>74.44</td>\n",
              "      <td>1531.80</td>\n",
              "      <td>2.48</td>\n",
              "    </tr>\n",
              "    <tr>\n",
              "      <th>std</th>\n",
              "      <td>19.53</td>\n",
              "      <td>24.67</td>\n",
              "      <td>1890.82</td>\n",
              "      <td>0.82</td>\n",
              "    </tr>\n",
              "    <tr>\n",
              "      <th>min</th>\n",
              "      <td>1.00</td>\n",
              "      <td>18.85</td>\n",
              "      <td>18.85</td>\n",
              "      <td>0.63</td>\n",
              "    </tr>\n",
              "    <tr>\n",
              "      <th>25%</th>\n",
              "      <td>2.00</td>\n",
              "      <td>56.15</td>\n",
              "      <td>134.50</td>\n",
              "      <td>1.87</td>\n",
              "    </tr>\n",
              "    <tr>\n",
              "      <th>50%</th>\n",
              "      <td>10.00</td>\n",
              "      <td>79.65</td>\n",
              "      <td>703.55</td>\n",
              "      <td>2.66</td>\n",
              "    </tr>\n",
              "    <tr>\n",
              "      <th>75%</th>\n",
              "      <td>29.00</td>\n",
              "      <td>94.20</td>\n",
              "      <td>2331.30</td>\n",
              "      <td>3.14</td>\n",
              "    </tr>\n",
              "    <tr>\n",
              "      <th>max</th>\n",
              "      <td>72.00</td>\n",
              "      <td>118.35</td>\n",
              "      <td>8684.80</td>\n",
              "      <td>3.94</td>\n",
              "    </tr>\n",
              "  </tbody>\n",
              "</table>\n",
              "</div>\n",
              "      <button class=\"colab-df-convert\" onclick=\"convertToInteractive('df-349a8037-d2fa-41af-bd0e-a838d629c401')\"\n",
              "              title=\"Convert this dataframe to an interactive table.\"\n",
              "              style=\"display:none;\">\n",
              "        \n",
              "  <svg xmlns=\"http://www.w3.org/2000/svg\" height=\"24px\"viewBox=\"0 0 24 24\"\n",
              "       width=\"24px\">\n",
              "    <path d=\"M0 0h24v24H0V0z\" fill=\"none\"/>\n",
              "    <path d=\"M18.56 5.44l.94 2.06.94-2.06 2.06-.94-2.06-.94-.94-2.06-.94 2.06-2.06.94zm-11 1L8.5 8.5l.94-2.06 2.06-.94-2.06-.94L8.5 2.5l-.94 2.06-2.06.94zm10 10l.94 2.06.94-2.06 2.06-.94-2.06-.94-.94-2.06-.94 2.06-2.06.94z\"/><path d=\"M17.41 7.96l-1.37-1.37c-.4-.4-.92-.59-1.43-.59-.52 0-1.04.2-1.43.59L10.3 9.45l-7.72 7.72c-.78.78-.78 2.05 0 2.83L4 21.41c.39.39.9.59 1.41.59.51 0 1.02-.2 1.41-.59l7.78-7.78 2.81-2.81c.8-.78.8-2.07 0-2.86zM5.41 20L4 18.59l7.72-7.72 1.47 1.35L5.41 20z\"/>\n",
              "  </svg>\n",
              "      </button>\n",
              "      \n",
              "  <style>\n",
              "    .colab-df-container {\n",
              "      display:flex;\n",
              "      flex-wrap:wrap;\n",
              "      gap: 12px;\n",
              "    }\n",
              "\n",
              "    .colab-df-convert {\n",
              "      background-color: #E8F0FE;\n",
              "      border: none;\n",
              "      border-radius: 50%;\n",
              "      cursor: pointer;\n",
              "      display: none;\n",
              "      fill: #1967D2;\n",
              "      height: 32px;\n",
              "      padding: 0 0 0 0;\n",
              "      width: 32px;\n",
              "    }\n",
              "\n",
              "    .colab-df-convert:hover {\n",
              "      background-color: #E2EBFA;\n",
              "      box-shadow: 0px 1px 2px rgba(60, 64, 67, 0.3), 0px 1px 3px 1px rgba(60, 64, 67, 0.15);\n",
              "      fill: #174EA6;\n",
              "    }\n",
              "\n",
              "    [theme=dark] .colab-df-convert {\n",
              "      background-color: #3B4455;\n",
              "      fill: #D2E3FC;\n",
              "    }\n",
              "\n",
              "    [theme=dark] .colab-df-convert:hover {\n",
              "      background-color: #434B5C;\n",
              "      box-shadow: 0px 1px 3px 1px rgba(0, 0, 0, 0.15);\n",
              "      filter: drop-shadow(0px 1px 2px rgba(0, 0, 0, 0.3));\n",
              "      fill: #FFFFFF;\n",
              "    }\n",
              "  </style>\n",
              "\n",
              "      <script>\n",
              "        const buttonEl =\n",
              "          document.querySelector('#df-349a8037-d2fa-41af-bd0e-a838d629c401 button.colab-df-convert');\n",
              "        buttonEl.style.display =\n",
              "          google.colab.kernel.accessAllowed ? 'block' : 'none';\n",
              "\n",
              "        async function convertToInteractive(key) {\n",
              "          const element = document.querySelector('#df-349a8037-d2fa-41af-bd0e-a838d629c401');\n",
              "          const dataTable =\n",
              "            await google.colab.kernel.invokeFunction('convertToInteractive',\n",
              "                                                     [key], {});\n",
              "          if (!dataTable) return;\n",
              "\n",
              "          const docLinkHtml = 'Like what you see? Visit the ' +\n",
              "            '<a target=\"_blank\" href=https://colab.research.google.com/notebooks/data_table.ipynb>data table notebook</a>'\n",
              "            + ' to learn more about interactive tables.';\n",
              "          element.innerHTML = '';\n",
              "          dataTable['output_type'] = 'display_data';\n",
              "          await google.colab.output.renderOutput(dataTable, element);\n",
              "          const docLink = document.createElement('div');\n",
              "          docLink.innerHTML = docLinkHtml;\n",
              "          element.appendChild(docLink);\n",
              "        }\n",
              "      </script>\n",
              "    </div>\n",
              "  </div>\n",
              "  "
            ]
          },
          "metadata": {},
          "execution_count": 141
        }
      ]
    },
    {
      "cell_type": "code",
      "source": [
        "#vamos entender também quais são as estatísticas descritivas entre a\n",
        "#variável Churn e a variável total_gasto\n",
        "#quem não deixou a empresa\n",
        "database[database['Churn'] == 'No'].describe().round(2)"
      ],
      "metadata": {
        "colab": {
          "base_uri": "https://localhost:8080/",
          "height": 0
        },
        "id": "SFznAaHbzBbn",
        "outputId": "326c875a-6f27-456e-94ec-4d70df4cdb40"
      },
      "execution_count": 142,
      "outputs": [
        {
          "output_type": "execute_result",
          "data": {
            "text/plain": [
              "       meses_contrato  gasto_mes  total_gasto  gasto_dia\n",
              "count         5163.00    5163.00      5163.00    5163.00\n",
              "mean            37.65      61.31      2555.34       2.04\n",
              "std             24.08      31.09      2329.46       1.04\n",
              "min              1.00      18.25        18.80       0.61\n",
              "25%             15.00      25.10       577.83       0.84\n",
              "50%             38.00      64.45      1683.60       2.15\n",
              "75%             61.00      88.48      4264.12       2.95\n",
              "max             72.00     118.75      8672.45       3.96"
            ],
            "text/html": [
              "\n",
              "  <div id=\"df-1a02590f-889f-47a6-be27-7a988a71918d\">\n",
              "    <div class=\"colab-df-container\">\n",
              "      <div>\n",
              "<style scoped>\n",
              "    .dataframe tbody tr th:only-of-type {\n",
              "        vertical-align: middle;\n",
              "    }\n",
              "\n",
              "    .dataframe tbody tr th {\n",
              "        vertical-align: top;\n",
              "    }\n",
              "\n",
              "    .dataframe thead th {\n",
              "        text-align: right;\n",
              "    }\n",
              "</style>\n",
              "<table border=\"1\" class=\"dataframe\">\n",
              "  <thead>\n",
              "    <tr style=\"text-align: right;\">\n",
              "      <th></th>\n",
              "      <th>meses_contrato</th>\n",
              "      <th>gasto_mes</th>\n",
              "      <th>total_gasto</th>\n",
              "      <th>gasto_dia</th>\n",
              "    </tr>\n",
              "  </thead>\n",
              "  <tbody>\n",
              "    <tr>\n",
              "      <th>count</th>\n",
              "      <td>5163.00</td>\n",
              "      <td>5163.00</td>\n",
              "      <td>5163.00</td>\n",
              "      <td>5163.00</td>\n",
              "    </tr>\n",
              "    <tr>\n",
              "      <th>mean</th>\n",
              "      <td>37.65</td>\n",
              "      <td>61.31</td>\n",
              "      <td>2555.34</td>\n",
              "      <td>2.04</td>\n",
              "    </tr>\n",
              "    <tr>\n",
              "      <th>std</th>\n",
              "      <td>24.08</td>\n",
              "      <td>31.09</td>\n",
              "      <td>2329.46</td>\n",
              "      <td>1.04</td>\n",
              "    </tr>\n",
              "    <tr>\n",
              "      <th>min</th>\n",
              "      <td>1.00</td>\n",
              "      <td>18.25</td>\n",
              "      <td>18.80</td>\n",
              "      <td>0.61</td>\n",
              "    </tr>\n",
              "    <tr>\n",
              "      <th>25%</th>\n",
              "      <td>15.00</td>\n",
              "      <td>25.10</td>\n",
              "      <td>577.83</td>\n",
              "      <td>0.84</td>\n",
              "    </tr>\n",
              "    <tr>\n",
              "      <th>50%</th>\n",
              "      <td>38.00</td>\n",
              "      <td>64.45</td>\n",
              "      <td>1683.60</td>\n",
              "      <td>2.15</td>\n",
              "    </tr>\n",
              "    <tr>\n",
              "      <th>75%</th>\n",
              "      <td>61.00</td>\n",
              "      <td>88.48</td>\n",
              "      <td>4264.12</td>\n",
              "      <td>2.95</td>\n",
              "    </tr>\n",
              "    <tr>\n",
              "      <th>max</th>\n",
              "      <td>72.00</td>\n",
              "      <td>118.75</td>\n",
              "      <td>8672.45</td>\n",
              "      <td>3.96</td>\n",
              "    </tr>\n",
              "  </tbody>\n",
              "</table>\n",
              "</div>\n",
              "      <button class=\"colab-df-convert\" onclick=\"convertToInteractive('df-1a02590f-889f-47a6-be27-7a988a71918d')\"\n",
              "              title=\"Convert this dataframe to an interactive table.\"\n",
              "              style=\"display:none;\">\n",
              "        \n",
              "  <svg xmlns=\"http://www.w3.org/2000/svg\" height=\"24px\"viewBox=\"0 0 24 24\"\n",
              "       width=\"24px\">\n",
              "    <path d=\"M0 0h24v24H0V0z\" fill=\"none\"/>\n",
              "    <path d=\"M18.56 5.44l.94 2.06.94-2.06 2.06-.94-2.06-.94-.94-2.06-.94 2.06-2.06.94zm-11 1L8.5 8.5l.94-2.06 2.06-.94-2.06-.94L8.5 2.5l-.94 2.06-2.06.94zm10 10l.94 2.06.94-2.06 2.06-.94-2.06-.94-.94-2.06-.94 2.06-2.06.94z\"/><path d=\"M17.41 7.96l-1.37-1.37c-.4-.4-.92-.59-1.43-.59-.52 0-1.04.2-1.43.59L10.3 9.45l-7.72 7.72c-.78.78-.78 2.05 0 2.83L4 21.41c.39.39.9.59 1.41.59.51 0 1.02-.2 1.41-.59l7.78-7.78 2.81-2.81c.8-.78.8-2.07 0-2.86zM5.41 20L4 18.59l7.72-7.72 1.47 1.35L5.41 20z\"/>\n",
              "  </svg>\n",
              "      </button>\n",
              "      \n",
              "  <style>\n",
              "    .colab-df-container {\n",
              "      display:flex;\n",
              "      flex-wrap:wrap;\n",
              "      gap: 12px;\n",
              "    }\n",
              "\n",
              "    .colab-df-convert {\n",
              "      background-color: #E8F0FE;\n",
              "      border: none;\n",
              "      border-radius: 50%;\n",
              "      cursor: pointer;\n",
              "      display: none;\n",
              "      fill: #1967D2;\n",
              "      height: 32px;\n",
              "      padding: 0 0 0 0;\n",
              "      width: 32px;\n",
              "    }\n",
              "\n",
              "    .colab-df-convert:hover {\n",
              "      background-color: #E2EBFA;\n",
              "      box-shadow: 0px 1px 2px rgba(60, 64, 67, 0.3), 0px 1px 3px 1px rgba(60, 64, 67, 0.15);\n",
              "      fill: #174EA6;\n",
              "    }\n",
              "\n",
              "    [theme=dark] .colab-df-convert {\n",
              "      background-color: #3B4455;\n",
              "      fill: #D2E3FC;\n",
              "    }\n",
              "\n",
              "    [theme=dark] .colab-df-convert:hover {\n",
              "      background-color: #434B5C;\n",
              "      box-shadow: 0px 1px 3px 1px rgba(0, 0, 0, 0.15);\n",
              "      filter: drop-shadow(0px 1px 2px rgba(0, 0, 0, 0.3));\n",
              "      fill: #FFFFFF;\n",
              "    }\n",
              "  </style>\n",
              "\n",
              "      <script>\n",
              "        const buttonEl =\n",
              "          document.querySelector('#df-1a02590f-889f-47a6-be27-7a988a71918d button.colab-df-convert');\n",
              "        buttonEl.style.display =\n",
              "          google.colab.kernel.accessAllowed ? 'block' : 'none';\n",
              "\n",
              "        async function convertToInteractive(key) {\n",
              "          const element = document.querySelector('#df-1a02590f-889f-47a6-be27-7a988a71918d');\n",
              "          const dataTable =\n",
              "            await google.colab.kernel.invokeFunction('convertToInteractive',\n",
              "                                                     [key], {});\n",
              "          if (!dataTable) return;\n",
              "\n",
              "          const docLinkHtml = 'Like what you see? Visit the ' +\n",
              "            '<a target=\"_blank\" href=https://colab.research.google.com/notebooks/data_table.ipynb>data table notebook</a>'\n",
              "            + ' to learn more about interactive tables.';\n",
              "          element.innerHTML = '';\n",
              "          dataTable['output_type'] = 'display_data';\n",
              "          await google.colab.output.renderOutput(dataTable, element);\n",
              "          const docLink = document.createElement('div');\n",
              "          docLink.innerHTML = docLinkHtml;\n",
              "          element.appendChild(docLink);\n",
              "        }\n",
              "      </script>\n",
              "    </div>\n",
              "  </div>\n",
              "  "
            ]
          },
          "metadata": {},
          "execution_count": 142
        }
      ]
    },
    {
      "cell_type": "markdown",
      "source": [
        "Com as análises acima, podemos notar algumas coisas legais: \n",
        "- O número de pessoas que deixaram a empresa representa pouco mais de 26% da base total;\n",
        "- Quem não deixou a empresa tem uma média de meses de contrato mais que 2x maior do que quem deixou;\n",
        "- O total gasto para o quantil 75% é maior em quem já deixou a empresa, do que quem não deixou. Um fato interessante."
      ],
      "metadata": {
        "id": "Uin9xFsizKTx"
      }
    },
    {
      "cell_type": "markdown",
      "source": [
        "# 3. Variável Churn em relação com outras variáveis"
      ],
      "metadata": {
        "id": "6euMPyt4yUGt"
      }
    },
    {
      "cell_type": "markdown",
      "source": [
        "## 3.1 Churn X Gasto X Idade"
      ],
      "metadata": {
        "id": "cWCtTugEyzN2"
      }
    },
    {
      "cell_type": "code",
      "source": [
        "#vamos visualizar nossa base de dados novamente\n",
        "database.head(5)"
      ],
      "metadata": {
        "colab": {
          "base_uri": "https://localhost:8080/",
          "height": 357
        },
        "id": "2-ps47bv1Mfz",
        "outputId": "99e9dde2-870c-4ebf-9d70-2c115125d198"
      },
      "execution_count": 143,
      "outputs": [
        {
          "output_type": "execute_result",
          "data": {
            "text/plain": [
              "           ID Churn  genero maior_igual65 parceiro dependentes  \\\n",
              "0  0002-ORFBO    No  Female            No      Yes         Yes   \n",
              "1  0003-MKNFE    No    Male            No       No          No   \n",
              "2  0004-TLHLJ   Yes    Male            No       No          No   \n",
              "3  0011-IGKFF   Yes    Male           Yes      Yes          No   \n",
              "4  0013-EXCHZ   Yes  Female           Yes      Yes          No   \n",
              "\n",
              "   meses_contrato servico_celular multiplas_linhas assinatura_internet  \\\n",
              "0               9             Yes               No                 DSL   \n",
              "1               9             Yes              Yes                 DSL   \n",
              "2               4             Yes               No         Fiber optic   \n",
              "3              13             Yes               No         Fiber optic   \n",
              "4               3             Yes               No         Fiber optic   \n",
              "\n",
              "  adicional_seguranca_online adicional_backup adicional_protecao  \\\n",
              "0                         No              Yes                 No   \n",
              "1                         No               No                 No   \n",
              "2                         No               No                Yes   \n",
              "3                         No              Yes                Yes   \n",
              "4                         No               No                 No   \n",
              "\n",
              "  adicional_suporte TVacabo Streaming   tipo_contrato fatura_online  \\\n",
              "0               Yes     Yes        No        One year           Yes   \n",
              "1                No      No       Yes  Month-to-month            No   \n",
              "2                No      No        No  Month-to-month           Yes   \n",
              "3                No     Yes       Yes  Month-to-month           Yes   \n",
              "4               Yes     Yes        No  Month-to-month           Yes   \n",
              "\n",
              "     tipo_pagamento  gasto_mes  total_gasto  gasto_dia  \n",
              "0      Mailed check       65.6       593.30       2.19  \n",
              "1      Mailed check       59.9       542.40       2.00  \n",
              "2  Electronic check       73.9       280.85       2.46  \n",
              "3  Electronic check       98.0      1237.85       3.27  \n",
              "4      Mailed check       83.9       267.40       2.80  "
            ],
            "text/html": [
              "\n",
              "  <div id=\"df-2d68551f-af89-4c45-a59b-47d51f64b158\">\n",
              "    <div class=\"colab-df-container\">\n",
              "      <div>\n",
              "<style scoped>\n",
              "    .dataframe tbody tr th:only-of-type {\n",
              "        vertical-align: middle;\n",
              "    }\n",
              "\n",
              "    .dataframe tbody tr th {\n",
              "        vertical-align: top;\n",
              "    }\n",
              "\n",
              "    .dataframe thead th {\n",
              "        text-align: right;\n",
              "    }\n",
              "</style>\n",
              "<table border=\"1\" class=\"dataframe\">\n",
              "  <thead>\n",
              "    <tr style=\"text-align: right;\">\n",
              "      <th></th>\n",
              "      <th>ID</th>\n",
              "      <th>Churn</th>\n",
              "      <th>genero</th>\n",
              "      <th>maior_igual65</th>\n",
              "      <th>parceiro</th>\n",
              "      <th>dependentes</th>\n",
              "      <th>meses_contrato</th>\n",
              "      <th>servico_celular</th>\n",
              "      <th>multiplas_linhas</th>\n",
              "      <th>assinatura_internet</th>\n",
              "      <th>adicional_seguranca_online</th>\n",
              "      <th>adicional_backup</th>\n",
              "      <th>adicional_protecao</th>\n",
              "      <th>adicional_suporte</th>\n",
              "      <th>TVacabo</th>\n",
              "      <th>Streaming</th>\n",
              "      <th>tipo_contrato</th>\n",
              "      <th>fatura_online</th>\n",
              "      <th>tipo_pagamento</th>\n",
              "      <th>gasto_mes</th>\n",
              "      <th>total_gasto</th>\n",
              "      <th>gasto_dia</th>\n",
              "    </tr>\n",
              "  </thead>\n",
              "  <tbody>\n",
              "    <tr>\n",
              "      <th>0</th>\n",
              "      <td>0002-ORFBO</td>\n",
              "      <td>No</td>\n",
              "      <td>Female</td>\n",
              "      <td>No</td>\n",
              "      <td>Yes</td>\n",
              "      <td>Yes</td>\n",
              "      <td>9</td>\n",
              "      <td>Yes</td>\n",
              "      <td>No</td>\n",
              "      <td>DSL</td>\n",
              "      <td>No</td>\n",
              "      <td>Yes</td>\n",
              "      <td>No</td>\n",
              "      <td>Yes</td>\n",
              "      <td>Yes</td>\n",
              "      <td>No</td>\n",
              "      <td>One year</td>\n",
              "      <td>Yes</td>\n",
              "      <td>Mailed check</td>\n",
              "      <td>65.6</td>\n",
              "      <td>593.30</td>\n",
              "      <td>2.19</td>\n",
              "    </tr>\n",
              "    <tr>\n",
              "      <th>1</th>\n",
              "      <td>0003-MKNFE</td>\n",
              "      <td>No</td>\n",
              "      <td>Male</td>\n",
              "      <td>No</td>\n",
              "      <td>No</td>\n",
              "      <td>No</td>\n",
              "      <td>9</td>\n",
              "      <td>Yes</td>\n",
              "      <td>Yes</td>\n",
              "      <td>DSL</td>\n",
              "      <td>No</td>\n",
              "      <td>No</td>\n",
              "      <td>No</td>\n",
              "      <td>No</td>\n",
              "      <td>No</td>\n",
              "      <td>Yes</td>\n",
              "      <td>Month-to-month</td>\n",
              "      <td>No</td>\n",
              "      <td>Mailed check</td>\n",
              "      <td>59.9</td>\n",
              "      <td>542.40</td>\n",
              "      <td>2.00</td>\n",
              "    </tr>\n",
              "    <tr>\n",
              "      <th>2</th>\n",
              "      <td>0004-TLHLJ</td>\n",
              "      <td>Yes</td>\n",
              "      <td>Male</td>\n",
              "      <td>No</td>\n",
              "      <td>No</td>\n",
              "      <td>No</td>\n",
              "      <td>4</td>\n",
              "      <td>Yes</td>\n",
              "      <td>No</td>\n",
              "      <td>Fiber optic</td>\n",
              "      <td>No</td>\n",
              "      <td>No</td>\n",
              "      <td>Yes</td>\n",
              "      <td>No</td>\n",
              "      <td>No</td>\n",
              "      <td>No</td>\n",
              "      <td>Month-to-month</td>\n",
              "      <td>Yes</td>\n",
              "      <td>Electronic check</td>\n",
              "      <td>73.9</td>\n",
              "      <td>280.85</td>\n",
              "      <td>2.46</td>\n",
              "    </tr>\n",
              "    <tr>\n",
              "      <th>3</th>\n",
              "      <td>0011-IGKFF</td>\n",
              "      <td>Yes</td>\n",
              "      <td>Male</td>\n",
              "      <td>Yes</td>\n",
              "      <td>Yes</td>\n",
              "      <td>No</td>\n",
              "      <td>13</td>\n",
              "      <td>Yes</td>\n",
              "      <td>No</td>\n",
              "      <td>Fiber optic</td>\n",
              "      <td>No</td>\n",
              "      <td>Yes</td>\n",
              "      <td>Yes</td>\n",
              "      <td>No</td>\n",
              "      <td>Yes</td>\n",
              "      <td>Yes</td>\n",
              "      <td>Month-to-month</td>\n",
              "      <td>Yes</td>\n",
              "      <td>Electronic check</td>\n",
              "      <td>98.0</td>\n",
              "      <td>1237.85</td>\n",
              "      <td>3.27</td>\n",
              "    </tr>\n",
              "    <tr>\n",
              "      <th>4</th>\n",
              "      <td>0013-EXCHZ</td>\n",
              "      <td>Yes</td>\n",
              "      <td>Female</td>\n",
              "      <td>Yes</td>\n",
              "      <td>Yes</td>\n",
              "      <td>No</td>\n",
              "      <td>3</td>\n",
              "      <td>Yes</td>\n",
              "      <td>No</td>\n",
              "      <td>Fiber optic</td>\n",
              "      <td>No</td>\n",
              "      <td>No</td>\n",
              "      <td>No</td>\n",
              "      <td>Yes</td>\n",
              "      <td>Yes</td>\n",
              "      <td>No</td>\n",
              "      <td>Month-to-month</td>\n",
              "      <td>Yes</td>\n",
              "      <td>Mailed check</td>\n",
              "      <td>83.9</td>\n",
              "      <td>267.40</td>\n",
              "      <td>2.80</td>\n",
              "    </tr>\n",
              "  </tbody>\n",
              "</table>\n",
              "</div>\n",
              "      <button class=\"colab-df-convert\" onclick=\"convertToInteractive('df-2d68551f-af89-4c45-a59b-47d51f64b158')\"\n",
              "              title=\"Convert this dataframe to an interactive table.\"\n",
              "              style=\"display:none;\">\n",
              "        \n",
              "  <svg xmlns=\"http://www.w3.org/2000/svg\" height=\"24px\"viewBox=\"0 0 24 24\"\n",
              "       width=\"24px\">\n",
              "    <path d=\"M0 0h24v24H0V0z\" fill=\"none\"/>\n",
              "    <path d=\"M18.56 5.44l.94 2.06.94-2.06 2.06-.94-2.06-.94-.94-2.06-.94 2.06-2.06.94zm-11 1L8.5 8.5l.94-2.06 2.06-.94-2.06-.94L8.5 2.5l-.94 2.06-2.06.94zm10 10l.94 2.06.94-2.06 2.06-.94-2.06-.94-.94-2.06-.94 2.06-2.06.94z\"/><path d=\"M17.41 7.96l-1.37-1.37c-.4-.4-.92-.59-1.43-.59-.52 0-1.04.2-1.43.59L10.3 9.45l-7.72 7.72c-.78.78-.78 2.05 0 2.83L4 21.41c.39.39.9.59 1.41.59.51 0 1.02-.2 1.41-.59l7.78-7.78 2.81-2.81c.8-.78.8-2.07 0-2.86zM5.41 20L4 18.59l7.72-7.72 1.47 1.35L5.41 20z\"/>\n",
              "  </svg>\n",
              "      </button>\n",
              "      \n",
              "  <style>\n",
              "    .colab-df-container {\n",
              "      display:flex;\n",
              "      flex-wrap:wrap;\n",
              "      gap: 12px;\n",
              "    }\n",
              "\n",
              "    .colab-df-convert {\n",
              "      background-color: #E8F0FE;\n",
              "      border: none;\n",
              "      border-radius: 50%;\n",
              "      cursor: pointer;\n",
              "      display: none;\n",
              "      fill: #1967D2;\n",
              "      height: 32px;\n",
              "      padding: 0 0 0 0;\n",
              "      width: 32px;\n",
              "    }\n",
              "\n",
              "    .colab-df-convert:hover {\n",
              "      background-color: #E2EBFA;\n",
              "      box-shadow: 0px 1px 2px rgba(60, 64, 67, 0.3), 0px 1px 3px 1px rgba(60, 64, 67, 0.15);\n",
              "      fill: #174EA6;\n",
              "    }\n",
              "\n",
              "    [theme=dark] .colab-df-convert {\n",
              "      background-color: #3B4455;\n",
              "      fill: #D2E3FC;\n",
              "    }\n",
              "\n",
              "    [theme=dark] .colab-df-convert:hover {\n",
              "      background-color: #434B5C;\n",
              "      box-shadow: 0px 1px 3px 1px rgba(0, 0, 0, 0.15);\n",
              "      filter: drop-shadow(0px 1px 2px rgba(0, 0, 0, 0.3));\n",
              "      fill: #FFFFFF;\n",
              "    }\n",
              "  </style>\n",
              "\n",
              "      <script>\n",
              "        const buttonEl =\n",
              "          document.querySelector('#df-2d68551f-af89-4c45-a59b-47d51f64b158 button.colab-df-convert');\n",
              "        buttonEl.style.display =\n",
              "          google.colab.kernel.accessAllowed ? 'block' : 'none';\n",
              "\n",
              "        async function convertToInteractive(key) {\n",
              "          const element = document.querySelector('#df-2d68551f-af89-4c45-a59b-47d51f64b158');\n",
              "          const dataTable =\n",
              "            await google.colab.kernel.invokeFunction('convertToInteractive',\n",
              "                                                     [key], {});\n",
              "          if (!dataTable) return;\n",
              "\n",
              "          const docLinkHtml = 'Like what you see? Visit the ' +\n",
              "            '<a target=\"_blank\" href=https://colab.research.google.com/notebooks/data_table.ipynb>data table notebook</a>'\n",
              "            + ' to learn more about interactive tables.';\n",
              "          element.innerHTML = '';\n",
              "          dataTable['output_type'] = 'display_data';\n",
              "          await google.colab.output.renderOutput(dataTable, element);\n",
              "          const docLink = document.createElement('div');\n",
              "          docLink.innerHTML = docLinkHtml;\n",
              "          element.appendChild(docLink);\n",
              "        }\n",
              "      </script>\n",
              "    </div>\n",
              "  </div>\n",
              "  "
            ]
          },
          "metadata": {},
          "execution_count": 143
        }
      ]
    },
    {
      "cell_type": "code",
      "source": [
        "#Vamos fazer um gráfico categórico para entender o volume de clientes unicos em relação ao total gasto\n",
        "sns.catplot(x='Churn', y='total_gasto', data=database)"
      ],
      "metadata": {
        "colab": {
          "base_uri": "https://localhost:8080/",
          "height": 386
        },
        "id": "HCbgbh77vbTq",
        "outputId": "affab843-57ac-4fa7-aa83-42e5d8c5d320"
      },
      "execution_count": 144,
      "outputs": [
        {
          "output_type": "execute_result",
          "data": {
            "text/plain": [
              "<seaborn.axisgrid.FacetGrid at 0x7f03dc373450>"
            ]
          },
          "metadata": {},
          "execution_count": 144
        },
        {
          "output_type": "display_data",
          "data": {
            "text/plain": [
              "<Figure size 360x360 with 1 Axes>"
            ],
            "image/png": "[encoded data removed]"
          },
          "metadata": {
            "needs_background": "light"
          }
        }
      ]
    },
    {
      "cell_type": "markdown",
      "source": [
        "Podemos notar pelo gráfico acima que os clientes que tem Churn = Yes tem um valor total gasto menor de quem não tem Churn. Sendo mais volumoso em todos os valores que tangem a variável total_gasto"
      ],
      "metadata": {
        "id": "GReGR_c8wMiG"
      }
    },
    {
      "cell_type": "code",
      "source": [
        "#Vamos entender qual a distribuição entre gasto mensal e cancelou o plano, caso seja maior que 65 anos ou não\n",
        "sns.catplot(x='Churn', y='gasto_mes', hue='maior_igual65', kind='violin', split=True, data=database)"
      ],
      "metadata": {
        "colab": {
          "base_uri": "https://localhost:8080/",
          "height": 386
        },
        "id": "UrL_jFA4BZlk",
        "outputId": "2adb7be0-a34b-4219-a537-1bc47b6ff0c7"
      },
      "execution_count": 145,
      "outputs": [
        {
          "output_type": "execute_result",
          "data": {
            "text/plain": [
              "<seaborn.axisgrid.FacetGrid at 0x7f03dc5d1690>"
            ]
          },
          "metadata": {},
          "execution_count": 145
        },
        {
          "output_type": "display_data",
          "data": {
            "text/plain": [
              "<Figure size 439.125x360 with 1 Axes>"
            ],
            "image/png": "[encoded data removed]"
          },
          "metadata": {
            "needs_background": "light"
          }
        }
      ]
    },
    {
      "cell_type": "code",
      "source": [
        "churn_yes = database[database['Churn']=='Yes']\n",
        "idosos_churn = churn_yes[churn_yes['maior_igual65']=='Yes'].count()['maior_igual65']\n",
        "print('O número de idosos (maior que 65 anos) que cancelaram o contrato é de {} representando {} porcento da base total de churn'.format(idosos_churn, ((idosos_churn/len(churn_yes))*100).round(2)))"
      ],
      "metadata": {
        "colab": {
          "base_uri": "https://localhost:8080/"
        },
        "id": "dJz6UbfDM4Eq",
        "outputId": "814c57a5-5e59-4777-8247-4277e66f2b31"
      },
      "execution_count": 146,
      "outputs": [
        {
          "output_type": "stream",
          "name": "stdout",
          "text": [
            "O número de idosos (maior que 65 anos) que cancelaram o contrato é de 476 representando 25.47 porcento da base total de churn\n"
          ]
        }
      ]
    },
    {
      "cell_type": "markdown",
      "source": [
        "Podemos tirar algumas conclusões do gráfico acima:\n",
        "- Clientes idosos (maior que 65 anos) gastam mais do que os que não são, com gastos os maiores alocados entre a faixa de 70 até 110.\n",
        "- Clientes que deram churn e são idosos gastaram mais mensalmente do que os que não são, um dos motivos pode ser por falta de conhecimento dos planos, o que pode ter resultado no cancelamento do plano visto o uso versus valor pago.\n",
        "- Os idosos representam pouco mais de 1/4 da base de churn."
      ],
      "metadata": {
        "id": "q6FIbVpJCKXI"
      }
    },
    {
      "cell_type": "markdown",
      "source": [
        "## 3.2 Churn X meses_contrato = Fidelidade"
      ],
      "metadata": {
        "id": "8vD0jT7E1l5A"
      }
    },
    {
      "cell_type": "code",
      "source": [
        "#Vamos entender qual a relação do churn com o total gasto e os meses de contrato\n",
        "sns.displot(x='meses_contrato', hue='Churn', col='Churn', data=database)"
      ],
      "metadata": {
        "colab": {
          "base_uri": "https://localhost:8080/",
          "height": 0
        },
        "id": "tboqszmg1eGF",
        "outputId": "0355fd69-157f-43a1-efae-8095a64cf1aa"
      },
      "execution_count": 147,
      "outputs": [
        {
          "output_type": "execute_result",
          "data": {
            "text/plain": [
              "<seaborn.axisgrid.FacetGrid at 0x7f03dc2f3750>"
            ]
          },
          "metadata": {},
          "execution_count": 147
        },
        {
          "output_type": "display_data",
          "data": {
            "text/plain": [
              "<Figure size 772x360 with 2 Axes>"
            ],
            "image/png": "[encoded data removed]"
          },
          "metadata": {
            "needs_background": "light"
          }
        }
      ]
    },
    {
      "cell_type": "markdown",
      "source": [
        "Podemos ver que os clientes que cancelam o contrato tem uma distribuição exponencial, sendo que os 10 primeiros meses são cruciais, pois é quando a maior parte deles dá Churn.\n",
        "\n",
        "Um plano de ação seria contatar esse cliente para entender o que ele acha do plano e o que poderia melhorar, para evitar esse Churn nos primeiros meses de contrato"
      ],
      "metadata": {
        "id": "yxbEHfvG2rPd"
      }
    },
    {
      "cell_type": "code",
      "source": [
        "#Vamos entender qual a porcentagem nesses primeiros meses\n",
        "sns.displot(y='meses_contrato', hue='Churn', multiple='fill', data=database)"
      ],
      "metadata": {
        "colab": {
          "base_uri": "https://localhost:8080/",
          "height": 0
        },
        "id": "uI6YsvKEEfrQ",
        "outputId": "c813a8f6-0b5b-43fe-d943-6b208c753ebe"
      },
      "execution_count": 148,
      "outputs": [
        {
          "output_type": "execute_result",
          "data": {
            "text/plain": [
              "<seaborn.axisgrid.FacetGrid at 0x7f03dc511650>"
            ]
          },
          "metadata": {},
          "execution_count": 148
        },
        {
          "output_type": "display_data",
          "data": {
            "text/plain": [
              "<Figure size 412x360 with 1 Axes>"
            ],
            "image/png": "[encoded data removed]"
          },
          "metadata": {
            "needs_background": "light"
          }
        }
      ]
    },
    {
      "cell_type": "markdown",
      "source": [
        "Podemos notar que mais de 50% do clientes que deram churn não tinham nem 5 meses de contrato, é mais um indicativo que deveriamos tratar esses clientes de uma forma diferenciada nos primeiros meses de contrato."
      ],
      "metadata": {
        "id": "-9iLx5ORExB7"
      }
    },
    {
      "cell_type": "code",
      "source": [
        "#dado que os clientes cancelaram nos primeiros 5 meses, vamos entender a distribuição nesses primeiros 5 meses\n",
        "#para entender quais foram os meses que os clientes mais deram churn\n",
        "sns.displot(x='meses_contrato', hue='Churn', col='Churn', binwidth=1,data=database[database['meses_contrato']<=5])"
      ],
      "metadata": {
        "colab": {
          "base_uri": "https://localhost:8080/",
          "height": 0
        },
        "id": "14UzfPtMEnU6",
        "outputId": "357fd260-4e2d-4b59-e461-ef19f7ab2eb9"
      },
      "execution_count": 149,
      "outputs": [
        {
          "output_type": "execute_result",
          "data": {
            "text/plain": [
              "<seaborn.axisgrid.FacetGrid at 0x7f03dc275d50>"
            ]
          },
          "metadata": {},
          "execution_count": 149
        },
        {
          "output_type": "display_data",
          "data": {
            "text/plain": [
              "<Figure size 772x360 with 2 Axes>"
            ],
            "image/png": "[encoded data removed]"
          },
          "metadata": {
            "needs_background": "light"
          }
        }
      ]
    },
    {
      "cell_type": "markdown",
      "source": [
        "Podemos ver que no gráfico acima que a maioria dos cliente que dão churn são no primeiro mês de contrato.\n",
        "Uma alternativa para evitar esse tipo de evasão no primeiro mês seria ter um período de \"free trial\", para testagem do cliente e caso faça sentido, ele comece um contrato."
      ],
      "metadata": {
        "id": "yZMpEvFjFqme"
      }
    },
    {
      "cell_type": "markdown",
      "source": [
        "## 3.3 Churn X gênero"
      ],
      "metadata": {
        "id": "nd57YSsjGtTu"
      }
    },
    {
      "cell_type": "code",
      "source": [
        "#vamos entender a distribuição entre gênero para entender quais derão mais churn\n",
        "sns.catplot(x='Churn', col='genero', kind='count', data=database)"
      ],
      "metadata": {
        "colab": {
          "base_uri": "https://localhost:8080/",
          "height": 386
        },
        "id": "W4Ic9lekGscI",
        "outputId": "8d3a1cf4-6290-4761-b517-387d664f0281"
      },
      "execution_count": 150,
      "outputs": [
        {
          "output_type": "execute_result",
          "data": {
            "text/plain": [
              "<seaborn.axisgrid.FacetGrid at 0x7f03dc10c2d0>"
            ]
          },
          "metadata": {},
          "execution_count": 150
        },
        {
          "output_type": "display_data",
          "data": {
            "text/plain": [
              "<Figure size 720x360 with 2 Axes>"
            ],
            "image/png": "[encoded data removed]"
          },
          "metadata": {
            "needs_background": "light"
          }
        }
      ]
    },
    {
      "cell_type": "markdown",
      "source": [
        "Podemos ver no gráfico acima que a distribuição de Churn entre homem e mulher é bem semelhante"
      ],
      "metadata": {
        "id": "-14C6kJ1HiJe"
      }
    },
    {
      "cell_type": "code",
      "source": [
        "#vamos entender a distribuição de gastos entre os generos e o churn\n",
        "sns.catplot(x='Churn', y='gasto_mes', hue='genero', kind='violin', split=True, data=database)"
      ],
      "metadata": {
        "colab": {
          "base_uri": "https://localhost:8080/",
          "height": 386
        },
        "id": "YYyvfV2qHR-o",
        "outputId": "73b83d45-0cc7-408d-ca1a-eefa70afba9e"
      },
      "execution_count": 151,
      "outputs": [
        {
          "output_type": "execute_result",
          "data": {
            "text/plain": [
              "<seaborn.axisgrid.FacetGrid at 0x7f03dbf506d0>"
            ]
          },
          "metadata": {},
          "execution_count": 151
        },
        {
          "output_type": "display_data",
          "data": {
            "text/plain": [
              "<Figure size 432.125x360 with 1 Axes>"
            ],
            "image/png": "[encoded data removed]"
          },
          "metadata": {
            "needs_background": "light"
          }
        }
      ]
    },
    {
      "cell_type": "markdown",
      "source": [
        "Podemos ver que não há comportamento de gastos diferentes entre homens e mulheres, no entanto, podemos notar que quem cancelou o contrato gastou muito mais nas faixas entre 70 e 110, bem semelhante ao que notamos no gráfico de pessoas idosas. "
      ],
      "metadata": {
        "id": "2F0WtOeAIAi7"
      }
    },
    {
      "cell_type": "code",
      "source": [
        "#por fim, vamos entender se há diferença de meses de contrato entre os generos\n",
        "sns.displot(x='meses_contrato', hue='genero', col='genero', data=database)"
      ],
      "metadata": {
        "colab": {
          "base_uri": "https://localhost:8080/",
          "height": 386
        },
        "id": "3xDq07zkH-go",
        "outputId": "38730c3f-3183-4119-9b4e-050293ae32e9"
      },
      "execution_count": 152,
      "outputs": [
        {
          "output_type": "execute_result",
          "data": {
            "text/plain": [
              "<seaborn.axisgrid.FacetGrid at 0x7f03dbed08d0>"
            ]
          },
          "metadata": {},
          "execution_count": 152
        },
        {
          "output_type": "display_data",
          "data": {
            "text/plain": [
              "<Figure size 792.125x360 with 2 Axes>"
            ],
            "image/png": "[encoded data removed]"
          },
          "metadata": {
            "needs_background": "light"
          }
        }
      ]
    },
    {
      "cell_type": "markdown",
      "source": [
        "Com pequenas diferenças, não temos evidências para discordar que os generos seguem uma distribuição diferente"
      ],
      "metadata": {
        "id": "7SRPjzHfIw6J"
      }
    },
    {
      "cell_type": "markdown",
      "source": [
        "### Teste de hipótese:\n",
        "\n",
        "#### Vamos confirmar se as distribuições entre o gênero masculino e feminino são iguais.\n",
        "\n",
        "##### H0: A distribuição dos meses de contrato dos gêneros é igual\n",
        "##### H1: A distribuição dos meses de contrato dos gêneros não é igual"
      ],
      "metadata": {
        "id": "JsKbUhEFJM9y"
      }
    },
    {
      "cell_type": "code",
      "source": [
        "#vamos pegar a distribuição dos meses de contrato para o sexo feminino\n",
        "contrato_feminino = database.query('genero == \"Female\"').meses_contrato"
      ],
      "metadata": {
        "id": "muSfjsxMIvho"
      },
      "execution_count": 153,
      "outputs": []
    },
    {
      "cell_type": "code",
      "source": [
        "#vamos pegar a distribuição dos meses de contrato para o sexo masculino\n",
        "contrato_masculino = database.query('genero == \"Male\"').meses_contrato"
      ],
      "metadata": {
        "id": "Pgwor23HKCtW"
      },
      "execution_count": 154,
      "outputs": []
    },
    {
      "cell_type": "code",
      "source": [
        "#importando uma biblioteca estatística para fazer o teste de hipótese\n",
        "from scipy.stats import ranksums"
      ],
      "metadata": {
        "id": "v27DbR2_KRgt"
      },
      "execution_count": 155,
      "outputs": []
    },
    {
      "cell_type": "code",
      "source": [
        "#fazendo o teste de hipótese\n",
        "hip = ranksums(contrato_feminino, contrato_masculino)"
      ],
      "metadata": {
        "id": "nhefsAQYLURW"
      },
      "execution_count": 156,
      "outputs": []
    },
    {
      "cell_type": "code",
      "source": [
        "#valor do p-valor\n",
        "print('O valor do p-value é {}'.format((hip.pvalue).round(3)))"
      ],
      "metadata": {
        "colab": {
          "base_uri": "https://localhost:8080/"
        },
        "id": "tnX6xPw4Lcre",
        "outputId": "e5bffff7-caf4-42f7-8ad3-476fea7c2ce0"
      },
      "execution_count": 157,
      "outputs": [
        {
          "output_type": "stream",
          "name": "stdout",
          "text": [
            "O valor do p-value é 0.755\n"
          ]
        }
      ]
    },
    {
      "cell_type": "markdown",
      "source": [
        "**Temos um p-valor de 0.755, com um nível de significância de 5%, não temos evidências para aceitar a hipótese alternativa, sendo assim, aceitamos a hipótese nula de que a distribuição dos meses de contratos dos gêneros é igual**"
      ],
      "metadata": {
        "id": "snML4LP0Lgig"
      }
    },
    {
      "cell_type": "markdown",
      "source": [
        "## **Podemos tirar como conclusão os seguintes pontos:**\n",
        "\n",
        "- O período onde tem mais churn é nos primeiros 5 meses, sendo o primeiro mês mais ofensor na saída dos clientes. Uma alternativa para controlar a expectativa de um novo cliente é ter um período de teste, conhecido como \"free trial\";\n",
        "- Clientes que dão churn gastam mais por mês do que os não cancelaram o contrato o que pode ser um motivo de cancelarem, ou seja, um plano divergente do que o cliente precisa evidentemente;\n",
        "- O gênero não muda a distribuição de cancelamento de contratos;\n",
        "- Os idosos (mais de 65 anos) representam pouco mais de 1/4 da base de clientes que cancelaram o contrato."
      ],
      "metadata": {
        "id": "WGuerKmSL80Y"
      }
    },
    {
      "cell_type": "markdown",
      "source": [
        "# 4. Análise de correlação entre as variáveis\n",
        "\n",
        "## Referências:\n",
        "### Encoding de variáveis categóricas:\n",
        "\n",
        "https://pbpython.com/categorical-encoding.html\n",
        "\n",
        "https://www.askpython.com/python/examples/label-encoding\n",
        "\n",
        "### Correlação e heatmap:\n",
        "\n",
        "https://medium.com/omixdata/estatística-análise-de-correlação-usando-python-e-r-d68611511b5a\n",
        "\n",
        "https://cursos.alura.com.br/course/estatistica-correlacao-regressao/task/57519\n"
      ],
      "metadata": {
        "id": "n_xBl_UKO8kN"
      }
    },
    {
      "cell_type": "markdown",
      "source": [
        "## 4.1 Transformando nossas colunas\n",
        "\n",
        "#### Para fazer a correlação das variáveis, precisamos primeiro transformá-las em númericas/decimais"
      ],
      "metadata": {
        "id": "Zf6320U-mDFW"
      }
    },
    {
      "cell_type": "code",
      "source": [
        "#verificando nossa base de dados\n",
        "database.head(1)"
      ],
      "metadata": {
        "colab": {
          "base_uri": "https://localhost:8080/",
          "height": 162
        },
        "id": "dsdnqsdsj2V3",
        "outputId": "28214b4b-925c-49f2-f670-0880c69c71c3"
      },
      "execution_count": 162,
      "outputs": [
        {
          "output_type": "execute_result",
          "data": {
            "text/plain": [
              "           ID Churn  genero maior_igual65 parceiro dependentes  \\\n",
              "0  0002-ORFBO    No  Female            No      Yes         Yes   \n",
              "\n",
              "   meses_contrato servico_celular multiplas_linhas assinatura_internet  \\\n",
              "0               9             Yes               No                 DSL   \n",
              "\n",
              "  adicional_seguranca_online adicional_backup adicional_protecao  \\\n",
              "0                         No              Yes                 No   \n",
              "\n",
              "  adicional_suporte TVacabo Streaming tipo_contrato fatura_online  \\\n",
              "0               Yes     Yes        No      One year           Yes   \n",
              "\n",
              "  tipo_pagamento  gasto_mes  total_gasto  gasto_dia  \n",
              "0   Mailed check       65.6        593.3       2.19  "
            ],
            "text/html": [
              "\n",
              "  <div id=\"df-b32eb9b5-a99d-45f5-9b1e-fef437baf607\">\n",
              "    <div class=\"colab-df-container\">\n",
              "      <div>\n",
              "<style scoped>\n",
              "    .dataframe tbody tr th:only-of-type {\n",
              "        vertical-align: middle;\n",
              "    }\n",
              "\n",
              "    .dataframe tbody tr th {\n",
              "        vertical-align: top;\n",
              "    }\n",
              "\n",
              "    .dataframe thead th {\n",
              "        text-align: right;\n",
              "    }\n",
              "</style>\n",
              "<table border=\"1\" class=\"dataframe\">\n",
              "  <thead>\n",
              "    <tr style=\"text-align: right;\">\n",
              "      <th></th>\n",
              "      <th>ID</th>\n",
              "      <th>Churn</th>\n",
              "      <th>genero</th>\n",
              "      <th>maior_igual65</th>\n",
              "      <th>parceiro</th>\n",
              "      <th>dependentes</th>\n",
              "      <th>meses_contrato</th>\n",
              "      <th>servico_celular</th>\n",
              "      <th>multiplas_linhas</th>\n",
              "      <th>assinatura_internet</th>\n",
              "      <th>adicional_seguranca_online</th>\n",
              "      <th>adicional_backup</th>\n",
              "      <th>adicional_protecao</th>\n",
              "      <th>adicional_suporte</th>\n",
              "      <th>TVacabo</th>\n",
              "      <th>Streaming</th>\n",
              "      <th>tipo_contrato</th>\n",
              "      <th>fatura_online</th>\n",
              "      <th>tipo_pagamento</th>\n",
              "      <th>gasto_mes</th>\n",
              "      <th>total_gasto</th>\n",
              "      <th>gasto_dia</th>\n",
              "    </tr>\n",
              "  </thead>\n",
              "  <tbody>\n",
              "    <tr>\n",
              "      <th>0</th>\n",
              "      <td>0002-ORFBO</td>\n",
              "      <td>No</td>\n",
              "      <td>Female</td>\n",
              "      <td>No</td>\n",
              "      <td>Yes</td>\n",
              "      <td>Yes</td>\n",
              "      <td>9</td>\n",
              "      <td>Yes</td>\n",
              "      <td>No</td>\n",
              "      <td>DSL</td>\n",
              "      <td>No</td>\n",
              "      <td>Yes</td>\n",
              "      <td>No</td>\n",
              "      <td>Yes</td>\n",
              "      <td>Yes</td>\n",
              "      <td>No</td>\n",
              "      <td>One year</td>\n",
              "      <td>Yes</td>\n",
              "      <td>Mailed check</td>\n",
              "      <td>65.6</td>\n",
              "      <td>593.3</td>\n",
              "      <td>2.19</td>\n",
              "    </tr>\n",
              "  </tbody>\n",
              "</table>\n",
              "</div>\n",
              "      <button class=\"colab-df-convert\" onclick=\"convertToInteractive('df-b32eb9b5-a99d-45f5-9b1e-fef437baf607')\"\n",
              "              title=\"Convert this dataframe to an interactive table.\"\n",
              "              style=\"display:none;\">\n",
              "        \n",
              "  <svg xmlns=\"http://www.w3.org/2000/svg\" height=\"24px\"viewBox=\"0 0 24 24\"\n",
              "       width=\"24px\">\n",
              "    <path d=\"M0 0h24v24H0V0z\" fill=\"none\"/>\n",
              "    <path d=\"M18.56 5.44l.94 2.06.94-2.06 2.06-.94-2.06-.94-.94-2.06-.94 2.06-2.06.94zm-11 1L8.5 8.5l.94-2.06 2.06-.94-2.06-.94L8.5 2.5l-.94 2.06-2.06.94zm10 10l.94 2.06.94-2.06 2.06-.94-2.06-.94-.94-2.06-.94 2.06-2.06.94z\"/><path d=\"M17.41 7.96l-1.37-1.37c-.4-.4-.92-.59-1.43-.59-.52 0-1.04.2-1.43.59L10.3 9.45l-7.72 7.72c-.78.78-.78 2.05 0 2.83L4 21.41c.39.39.9.59 1.41.59.51 0 1.02-.2 1.41-.59l7.78-7.78 2.81-2.81c.8-.78.8-2.07 0-2.86zM5.41 20L4 18.59l7.72-7.72 1.47 1.35L5.41 20z\"/>\n",
              "  </svg>\n",
              "      </button>\n",
              "      \n",
              "  <style>\n",
              "    .colab-df-container {\n",
              "      display:flex;\n",
              "      flex-wrap:wrap;\n",
              "      gap: 12px;\n",
              "    }\n",
              "\n",
              "    .colab-df-convert {\n",
              "      background-color: #E8F0FE;\n",
              "      border: none;\n",
              "      border-radius: 50%;\n",
              "      cursor: pointer;\n",
              "      display: none;\n",
              "      fill: #1967D2;\n",
              "      height: 32px;\n",
              "      padding: 0 0 0 0;\n",
              "      width: 32px;\n",
              "    }\n",
              "\n",
              "    .colab-df-convert:hover {\n",
              "      background-color: #E2EBFA;\n",
              "      box-shadow: 0px 1px 2px rgba(60, 64, 67, 0.3), 0px 1px 3px 1px rgba(60, 64, 67, 0.15);\n",
              "      fill: #174EA6;\n",
              "    }\n",
              "\n",
              "    [theme=dark] .colab-df-convert {\n",
              "      background-color: #3B4455;\n",
              "      fill: #D2E3FC;\n",
              "    }\n",
              "\n",
              "    [theme=dark] .colab-df-convert:hover {\n",
              "      background-color: #434B5C;\n",
              "      box-shadow: 0px 1px 3px 1px rgba(0, 0, 0, 0.15);\n",
              "      filter: drop-shadow(0px 1px 2px rgba(0, 0, 0, 0.3));\n",
              "      fill: #FFFFFF;\n",
              "    }\n",
              "  </style>\n",
              "\n",
              "      <script>\n",
              "        const buttonEl =\n",
              "          document.querySelector('#df-b32eb9b5-a99d-45f5-9b1e-fef437baf607 button.colab-df-convert');\n",
              "        buttonEl.style.display =\n",
              "          google.colab.kernel.accessAllowed ? 'block' : 'none';\n",
              "\n",
              "        async function convertToInteractive(key) {\n",
              "          const element = document.querySelector('#df-b32eb9b5-a99d-45f5-9b1e-fef437baf607');\n",
              "          const dataTable =\n",
              "            await google.colab.kernel.invokeFunction('convertToInteractive',\n",
              "                                                     [key], {});\n",
              "          if (!dataTable) return;\n",
              "\n",
              "          const docLinkHtml = 'Like what you see? Visit the ' +\n",
              "            '<a target=\"_blank\" href=https://colab.research.google.com/notebooks/data_table.ipynb>data table notebook</a>'\n",
              "            + ' to learn more about interactive tables.';\n",
              "          element.innerHTML = '';\n",
              "          dataTable['output_type'] = 'display_data';\n",
              "          await google.colab.output.renderOutput(dataTable, element);\n",
              "          const docLink = document.createElement('div');\n",
              "          docLink.innerHTML = docLinkHtml;\n",
              "          element.appendChild(docLink);\n",
              "        }\n",
              "      </script>\n",
              "    </div>\n",
              "  </div>\n",
              "  "
            ]
          },
          "metadata": {},
          "execution_count": 162
        }
      ]
    },
    {
      "cell_type": "code",
      "source": [
        "#criando um database copia, para alterarmos os tipos das colunas sem mudar o \n",
        "#dataframe principal\n",
        "database_copy = database.copy()"
      ],
      "metadata": {
        "id": "7LChKPdclVfe"
      },
      "execution_count": 165,
      "outputs": []
    },
    {
      "cell_type": "code",
      "source": [
        "#pegando nossas colunas, pois iremos alterar o tipo dela para fazer a correlação\n",
        "database.columns"
      ],
      "metadata": {
        "colab": {
          "base_uri": "https://localhost:8080/"
        },
        "id": "k0TU6AIhlPtT",
        "outputId": "a8ee7853-72bd-480a-f736-68f267c50f03"
      },
      "execution_count": 180,
      "outputs": [
        {
          "output_type": "execute_result",
          "data": {
            "text/plain": [
              "Index(['ID', 'Churn', 'genero', 'maior_igual65', 'parceiro', 'dependentes',\n",
              "       'meses_contrato', 'servico_celular', 'multiplas_linhas',\n",
              "       'assinatura_internet', 'adicional_seguranca_online', 'adicional_backup',\n",
              "       'adicional_protecao', 'adicional_suporte', 'TVacabo', 'Streaming',\n",
              "       'tipo_contrato', 'fatura_online', 'tipo_pagamento', 'gasto_mes',\n",
              "       'total_gasto', 'gasto_dia'],\n",
              "      dtype='object')"
            ]
          },
          "metadata": {},
          "execution_count": 180
        }
      ]
    },
    {
      "cell_type": "code",
      "source": [
        "# função que transforma os valores categóricos de uma coluna em valores numéricos\n",
        "def label_encoding(categorical_col):\n",
        "  # altera o tipo de \"object\" para o tipo \"category\"\n",
        "  encode = categorical_col.astype('category')\n",
        "  # atribui a cada categoria um valor numérico diferente\n",
        "  return encode.cat.codes"
      ],
      "metadata": {
        "id": "guLvDtGWng4U"
      },
      "execution_count": 181,
      "outputs": []
    },
    {
      "cell_type": "code",
      "source": [
        "# vamos alterar os tipos da nossa coluna através de um for\n",
        "cat_columns = ['Churn', 'genero', 'maior_igual65', 'parceiro', 'dependentes',\n",
        "       'meses_contrato', 'servico_celular', 'multiplas_linhas',\n",
        "       'assinatura_internet', 'adicional_seguranca_online', 'adicional_backup',\n",
        "       'adicional_protecao', 'adicional_suporte', 'TVacabo', 'Streaming',\n",
        "       'tipo_contrato', 'fatura_online', 'tipo_pagamento', 'gasto_mes',\n",
        "       'total_gasto', 'gasto_dia']\n",
        "\n",
        "for col in cat_columns:\n",
        "  database_copy[col] = label_encoding(database_copy[col])"
      ],
      "metadata": {
        "id": "zZxWY-ZdlHvb"
      },
      "execution_count": 182,
      "outputs": []
    },
    {
      "cell_type": "code",
      "source": [
        "#Validando se alteramos corretamente\n",
        "database_copy.info()"
      ],
      "metadata": {
        "colab": {
          "base_uri": "https://localhost:8080/"
        },
        "id": "DAxaqXTkm5Gf",
        "outputId": "47e4d1bf-bd62-4f1e-d408-a8574765fa46"
      },
      "execution_count": 183,
      "outputs": [
        {
          "output_type": "stream",
          "name": "stdout",
          "text": [
            "<class 'pandas.core.frame.DataFrame'>\n",
            "RangeIndex: 7032 entries, 0 to 7031\n",
            "Data columns (total 22 columns):\n",
            " #   Column                      Non-Null Count  Dtype \n",
            "---  ------                      --------------  ----- \n",
            " 0   ID                          7032 non-null   object\n",
            " 1   Churn                       7032 non-null   int8  \n",
            " 2   genero                      7032 non-null   int8  \n",
            " 3   maior_igual65               7032 non-null   int8  \n",
            " 4   parceiro                    7032 non-null   int8  \n",
            " 5   dependentes                 7032 non-null   int8  \n",
            " 6   meses_contrato              7032 non-null   int8  \n",
            " 7   servico_celular             7032 non-null   int8  \n",
            " 8   multiplas_linhas            7032 non-null   int8  \n",
            " 9   assinatura_internet         7032 non-null   int8  \n",
            " 10  adicional_seguranca_online  7032 non-null   int8  \n",
            " 11  adicional_backup            7032 non-null   int8  \n",
            " 12  adicional_protecao          7032 non-null   int8  \n",
            " 13  adicional_suporte           7032 non-null   int8  \n",
            " 14  TVacabo                     7032 non-null   int8  \n",
            " 15  Streaming                   7032 non-null   int8  \n",
            " 16  tipo_contrato               7032 non-null   int8  \n",
            " 17  fatura_online               7032 non-null   int8  \n",
            " 18  tipo_pagamento              7032 non-null   int8  \n",
            " 19  gasto_mes                   7032 non-null   int16 \n",
            " 20  total_gasto                 7032 non-null   int16 \n",
            " 21  gasto_dia                   7032 non-null   int16 \n",
            "dtypes: int16(3), int8(18), object(1)\n",
            "memory usage: 219.9+ KB\n"
          ]
        }
      ]
    },
    {
      "cell_type": "code",
      "source": [
        "#calculando a correlação\n",
        "correlacao = database_copy.corr()"
      ],
      "metadata": {
        "id": "86Mfeqrdluq_"
      },
      "execution_count": 184,
      "outputs": []
    },
    {
      "cell_type": "code",
      "source": [
        "# aumentando o tamanho da figura para facilitar a visualização\n",
        "fig_dim = (20, 7)\n",
        "fig, ax = plt.subplots(figsize=fig_dim)\n",
        "\n",
        "#annot = correlacao na celula; fmt = formato; vmin e vmax=gradiente de corres;\n",
        "mask = np.triu(np.ones_like(correlacao, dtype = bool)) #retirando a parte de cima da diagonal\n",
        "sns.heatmap(correlacao, annot=True, fmt='.2f', ax=ax, vmin=-1, vmax=1, cmap = 'BrBG', mask = mask)"
      ],
      "metadata": {
        "colab": {
          "base_uri": "https://localhost:8080/",
          "height": 578
        },
        "id": "YFxUnVoYkbdP",
        "outputId": "ae84c1d8-ab36-47ef-f6cb-b2dd48e5fa34"
      },
      "execution_count": 191,
      "outputs": [
        {
          "output_type": "execute_result",
          "data": {
            "text/plain": [
              "<matplotlib.axes._subplots.AxesSubplot at 0x7f03dbb4fb90>"
            ]
          },
          "metadata": {},
          "execution_count": 191
        },
        {
          "output_type": "display_data",
          "data": {
            "text/plain": [
              "<Figure size 1440x504 with 2 Axes>"
            ],
            "image/png": "[encoded data removed]"
          },
          "metadata": {
            "needs_background": "light"
          }
        }
      ]
    },
    {
      "cell_type": "markdown",
      "source": [
        "Podemos perceber uma correlação em dois extremos (azul e marrom).\n",
        "\n",
        "Podemos ver uma alta correlação entre as variáveis:\n",
        "- Gasto mensal e Diario;\n",
        "- Gasto total e Meses de contrato;\n",
        "- Tipo de contrato e Meses de contrato.\n",
        "\n",
        "Outras correlações podemos ler de acordo com as cores de suas respectivas células."
      ],
      "metadata": {
        "id": "NTO3eCPJo6l9"
      }
    }
  ]
}